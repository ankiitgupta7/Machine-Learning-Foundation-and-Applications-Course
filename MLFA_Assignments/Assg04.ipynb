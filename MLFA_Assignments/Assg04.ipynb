{
  "nbformat": 4,
  "nbformat_minor": 0,
  "metadata": {
    "colab": {
      "name": "Assg04.ipynb",
      "provenance": [],
      "toc_visible": true
    },
    "kernelspec": {
      "name": "python3",
      "display_name": "Python 3"
    }
  },
  "cells": [
    {
      "cell_type": "markdown",
      "metadata": {
        "id": "22vHKWLjH6N7"
      },
      "source": [
        "# **1) Read the .mat files in Python and access the variables**"
      ]
    },
    {
      "cell_type": "code",
      "metadata": {
        "id": "qJpwVEGvYBN0",
        "colab": {
          "base_uri": "https://localhost:8080/",
          "height": 34
        },
        "outputId": "ca2d8488-fbd3-459f-c88f-f26d05f7f779"
      },
      "source": [
        "import scipy.io\n",
        "import numpy as np\n",
        "\n",
        "# reading the .mat files \n",
        "mat10 = scipy.io.loadmat('2010rainfall.mat')\n",
        "mat11 = scipy.io.loadmat('2011rainfall.mat')\n",
        "\n",
        "# accessing the variables in the .mat files\n",
        "XR10 = np.array(mat10['XR1'])\n",
        "ZR10 = np.array(mat10['ZR1'])\n",
        "XR11 = np.array(mat11['XR'])\n",
        "ZR11 = np.array(mat11['ZR'])\n",
        "\n",
        "XR10.shape"
      ],
      "execution_count": null,
      "outputs": [
        {
          "output_type": "execute_result",
          "data": {
            "text/plain": [
              "(357, 122)"
            ]
          },
          "metadata": {
            "tags": []
          },
          "execution_count": 4
        }
      ]
    },
    {
      "cell_type": "code",
      "metadata": {
        "id": "YUUUoCyPLvlX",
        "colab": {
          "base_uri": "https://localhost:8080/",
          "height": 238
        },
        "outputId": "0e351c12-f958-44f2-cf99-220e2c000117"
      },
      "source": [
        "XR10"
      ],
      "execution_count": null,
      "outputs": [
        {
          "output_type": "execute_result",
          "data": {
            "text/plain": [
              "array([[ 0.        ,  0.        ,  0.        , ...,  0.        ,\n",
              "         0.        ,  0.        ],\n",
              "       [ 0.        ,  0.        ,  0.        , ...,  0.        ,\n",
              "         0.        ,  0.        ],\n",
              "       [ 0.        ,  0.46729854, 10.92762184, ...,  0.        ,\n",
              "         0.        ,  0.        ],\n",
              "       ...,\n",
              "       [ 0.        ,  0.        ,  0.        , ...,  0.        ,\n",
              "         0.        ,  0.        ],\n",
              "       [ 0.        ,  0.        ,  0.        , ...,  0.        ,\n",
              "         0.        ,  0.        ],\n",
              "       [ 0.        ,  0.        ,  0.        , ...,  0.        ,\n",
              "         0.        ,  0.        ]])"
            ]
          },
          "metadata": {
            "tags": []
          },
          "execution_count": 4
        }
      ]
    },
    {
      "cell_type": "markdown",
      "metadata": {
        "id": "8ZNxqLk_IMoL"
      },
      "source": [
        "# **2,3) Finding coefficients of a linear regression model to predict the rainfall XR(s,t) at any location 's' on day 't', using as predictor the rainfall at all other locations on the same day, and also rainfall at the same location on the previous 2 days.**\n",
        "\n",
        "Using 2010 data for training. And 2011 data for testing."
      ]
    },
    {
      "cell_type": "code",
      "metadata": {
        "id": "Qd5msqLrczJ3",
        "colab": {
          "base_uri": "https://localhost:8080/",
          "height": 119
        },
        "outputId": "a96367e5-e791-43ab-c6e8-74bc01fcfc81"
      },
      "source": [
        "from sklearn import linear_model\n",
        "from sklearn.metrics import mean_squared_error\n",
        "import numpy as np\n",
        "\n",
        "# define s\n",
        "places = np.array([42,158,299])\n",
        "for i in range(3):\n",
        "    # Training\n",
        "    s = places[i]\n",
        "    if(XR10.shape[0] == 357):\n",
        "        # store the rainfall data for particular place as labels for training\n",
        "        train = XR10[s]\n",
        "        # deleted the concerned place's data as we want to estimate that \n",
        "        XR10 = np.delete(XR10, (s), axis=0) \n",
        "\n",
        "\n",
        "    if(XR10.shape[1] == 122):\n",
        "        # selecting the day and day before rainfall data\n",
        "        dayb4 = train[1:121]\n",
        "        twodayb4 = train[0:120]\n",
        "        dayb4.shape = (1,120)\n",
        "        twodayb4.shape = (1,120)\n",
        "        train.shape = (1,122)\n",
        "\n",
        "        # deleting the first two column (day's) data\n",
        "        XR10 = np.delete(XR10, (0), axis=1)\n",
        "        XR10 = np.delete(XR10, (1), axis=1)\n",
        "        train = np.delete(train, (0), axis=1)\n",
        "        train = np.delete(train, (1), axis=1)\n",
        "\n",
        "        # appending the addional two feature vectors\n",
        "        XR10 = np.append(XR10,dayb4,axis = 0)\n",
        "        XR10 = np.append(XR10,twodayb4,axis = 0)\n",
        "\n",
        "\n",
        "    #print(twodayb4.shape,train.shape,XR10.shape) \n",
        "\n",
        "    reg = linear_model.LinearRegression()\n",
        "    reg.fit(XR10.transpose(),train.transpose())\n",
        "    \n",
        "\n",
        "    # Testing\n",
        "\n",
        "\n",
        "    if(XR11.shape[0] == 357):\n",
        "        # store the rainfall data for particular place as labels for testing\n",
        "        test = XR11[s]\n",
        "        # deleted the concerned place's data as we want to estimate that \n",
        "        XR11 = np.delete(XR11, (s), axis=0) \n",
        "\n",
        "    if(XR11.shape[1] == 122):\n",
        "        # selecting the day and day before rainfall data\n",
        "        dayb4 = test[1:121]\n",
        "        twodayb4 = test[0:120]\n",
        "        dayb4.shape = (1,120)\n",
        "        twodayb4.shape = (1,120)\n",
        "        test.shape = (1,122)\n",
        "\n",
        "        # deleting the first two column (day's) data\n",
        "        XR11 = np.delete(XR11, (0), axis=1)\n",
        "        XR11 = np.delete(XR11, (1), axis=1)\n",
        "        test = np.delete(test, (0), axis=1)\n",
        "        test = np.delete(test, (1), axis=1)\n",
        "\n",
        "        # appending the addional two feature vectors\n",
        "        XR11 = np.append(XR11,dayb4,axis = 0)\n",
        "        XR11 = np.append(XR11,twodayb4,axis = 0)\n",
        "\n",
        "    test_res = reg.predict(XR11.transpose())\n",
        "    test_res,test\n",
        "\n",
        "    print('\\nMean Square Error of Model for place',places[i], ': ', mean_squared_error(test.transpose(),test_res))\n"
      ],
      "execution_count": null,
      "outputs": [
        {
          "output_type": "stream",
          "text": [
            "\n",
            "Mean Square Error of Model for place 42 :  683.4889618837055\n",
            "\n",
            "Mean Square Error of Model for place 158 :  683.4889618837055\n",
            "\n",
            "Mean Square Error of Model for place 299 :  683.4889618837055\n"
          ],
          "name": "stdout"
        }
      ]
    },
    {
      "cell_type": "markdown",
      "metadata": {
        "id": "Rbl1mfr4JCUC"
      },
      "source": [
        "# **4) Repeat the same process using LASSO linear regression. Using the coefficients, identify the top 5 predictors for each of the 3 locations.**"
      ]
    },
    {
      "cell_type": "code",
      "metadata": {
        "id": "Bc7VDYGOslM4",
        "colab": {
          "base_uri": "https://localhost:8080/",
          "height": 231
        },
        "outputId": "35ba7707-01ef-4b31-ca61-817a6a977d09"
      },
      "source": [
        "from sklearn import linear_model\n",
        "from sklearn.metrics import mean_squared_error\n",
        "import numpy as np\n",
        "\n",
        "# define s\n",
        "places = np.array([42,158,299])\n",
        "for i in range(3):\n",
        "    # Training\n",
        "    s = places[i]\n",
        "    if(XR10.shape[0] == 357):\n",
        "        # store the rainfall data for particular place as labels for training\n",
        "        train = XR10[s]\n",
        "        # deleted the concerned place's data as we want to estimate that \n",
        "        XR10 = np.delete(XR10, (s), axis=0) \n",
        "\n",
        "\n",
        "    if(XR10.shape[1] == 122):\n",
        "        # selecting the day and day before rainfall data\n",
        "        dayb4 = train[1:121]\n",
        "        twodayb4 = train[0:120]\n",
        "        dayb4.shape = (1,120)\n",
        "        twodayb4.shape = (1,120)\n",
        "        train.shape = (1,122)\n",
        "\n",
        "        # deleting the first two column (day's) data\n",
        "        XR10 = np.delete(XR10, (0), axis=1)\n",
        "        XR10 = np.delete(XR10, (1), axis=1)\n",
        "        train = np.delete(train, (0), axis=1)\n",
        "        train = np.delete(train, (1), axis=1)\n",
        "\n",
        "        # appending the addional two feature vectors\n",
        "        XR10 = np.append(XR10,dayb4,axis = 0)\n",
        "        XR10 = np.append(XR10,twodayb4,axis = 0)\n",
        "\n",
        "    #print(twodayb4.shape,train.shape,XR10.shape) \n",
        "\n",
        "    reg = linear_model.Lasso(alpha = 28)\n",
        "    reg.fit(XR10.transpose(),train.transpose())\n",
        "\n",
        "    print(sort(reg.coef_))\n",
        "    \n",
        "\n",
        "    ### Testing\n",
        "    if(XR11.shape[0] == 357):\n",
        "        # store the rainfall data for particular place as labels for testing\n",
        "        test = XR11[s]\n",
        "        # deleted the concerned place's data as we want to estimate that \n",
        "        XR11 = np.delete(XR11, (s), axis=0) \n",
        "\n",
        "    if(XR11.shape[1] == 122):\n",
        "        # selecting the day and day before rainfall data\n",
        "        dayb4 = test[1:121]\n",
        "        twodayb4 = test[0:120]\n",
        "        dayb4.shape = (1,120)\n",
        "        twodayb4.shape = (1,120)\n",
        "        test.shape = (1,122)\n",
        "\n",
        "        # deleting the first two column (day's) data\n",
        "        XR11 = np.delete(XR11, (0), axis=1)\n",
        "        XR11 = np.delete(XR11, (1), axis=1)\n",
        "        test = np.delete(test, (0), axis=1)\n",
        "        test = np.delete(test, (1), axis=1)\n",
        "\n",
        "        # appending the addional two feature vectors\n",
        "        XR11 = np.append(XR11,dayb4,axis = 0)\n",
        "        XR11 = np.append(XR11,twodayb4,axis = 0)\n",
        "\n",
        "    test_res = reg.predict(XR11.transpose())\n",
        "    test_res,test\n",
        "\n",
        "    print('\\nMean Square Error of Model for place',places[i], ': ', mean_squared_error(test.transpose(),test_res))\n",
        "\n",
        "\n",
        "# print('Coefficients of the regression: ', reg.coef_)\n",
        "# print('Intercept of the regression: ', reg.intercept_)\n"
      ],
      "execution_count": null,
      "outputs": [
        {
          "output_type": "error",
          "ename": "NameError",
          "evalue": "ignored",
          "traceback": [
            "\u001b[0;31m---------------------------------------------------------------------------\u001b[0m",
            "\u001b[0;31mNameError\u001b[0m                                 Traceback (most recent call last)",
            "\u001b[0;32m<ipython-input-1-163e130fa5b5>\u001b[0m in \u001b[0;36m<module>\u001b[0;34m()\u001b[0m\n\u001b[1;32m      8\u001b[0m     \u001b[0;31m# Training\u001b[0m\u001b[0;34m\u001b[0m\u001b[0;34m\u001b[0m\u001b[0;34m\u001b[0m\u001b[0m\n\u001b[1;32m      9\u001b[0m     \u001b[0ms\u001b[0m \u001b[0;34m=\u001b[0m \u001b[0mplaces\u001b[0m\u001b[0;34m[\u001b[0m\u001b[0mi\u001b[0m\u001b[0;34m]\u001b[0m\u001b[0;34m\u001b[0m\u001b[0;34m\u001b[0m\u001b[0m\n\u001b[0;32m---> 10\u001b[0;31m     \u001b[0;32mif\u001b[0m\u001b[0;34m(\u001b[0m\u001b[0mXR10\u001b[0m\u001b[0;34m.\u001b[0m\u001b[0mshape\u001b[0m\u001b[0;34m[\u001b[0m\u001b[0;36m0\u001b[0m\u001b[0;34m]\u001b[0m \u001b[0;34m==\u001b[0m \u001b[0;36m357\u001b[0m\u001b[0;34m)\u001b[0m\u001b[0;34m:\u001b[0m\u001b[0;34m\u001b[0m\u001b[0;34m\u001b[0m\u001b[0m\n\u001b[0m\u001b[1;32m     11\u001b[0m         \u001b[0;31m# store the rainfall data for particular place as labels for training\u001b[0m\u001b[0;34m\u001b[0m\u001b[0;34m\u001b[0m\u001b[0;34m\u001b[0m\u001b[0m\n\u001b[1;32m     12\u001b[0m         \u001b[0mtrain\u001b[0m \u001b[0;34m=\u001b[0m \u001b[0mXR10\u001b[0m\u001b[0;34m[\u001b[0m\u001b[0ms\u001b[0m\u001b[0;34m]\u001b[0m\u001b[0;34m\u001b[0m\u001b[0;34m\u001b[0m\u001b[0m\n",
            "\u001b[0;31mNameError\u001b[0m: name 'XR10' is not defined"
          ]
        }
      ]
    }
  ]
}